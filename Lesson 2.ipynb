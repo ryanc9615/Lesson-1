{
 "cells": [
  {
   "cell_type": "markdown",
   "id": "d4c938f6",
   "metadata": {},
   "source": [
    "# Lesson 2: cosine similarity and document comparison"
   ]
  },
  {
   "cell_type": "markdown",
   "id": "ae0c4629",
   "metadata": {},
   "source": [
    "Goal is to understand cosine similarity, first geometrically in 2D, then applied to text.  \n",
    "We'll represent documents as vectors, compute their similarity, and build a small \"search function\".\n"
   ]
  },
  {
   "cell_type": "markdown",
   "id": "3c670cba",
   "metadata": {},
   "source": [
    "## 1) Cosine Similarity in 2D"
   ]
  },
  {
   "cell_type": "code",
   "execution_count": 1,
   "id": "9d457f34-d036-468d-bfc3-7b4137c33b16",
   "metadata": {},
   "outputs": [
    {
     "data": {
      "image/png": "[encoded data removed]",
      "text/plain": [
       "<Figure size 1000x500 with 2 Axes>"
      ]
     },
     "metadata": {},
     "output_type": "display_data"
    }
   ],
   "source": [
    "import matplotlib.pyplot as plt\n",
    "import numpy as np\n",
    "\n",
    "# Example 1: High similarity\n",
    "A = np.array([1, 2])\n",
    "B = np.array([2.8, 3.5])\n",
    "\n",
    "# Example 2: Low similarity\n",
    "C = np.array([1, 2])\n",
    "D = np.array([-1, 1])\n",
    "\n",
    "fig, axes = plt.subplots(1, 2, figsize=(10,5))\n",
    "\n",
    "# Left: high similarity\n",
    "axes[0].quiver(0,0,A[0],A[1],angles='xy',scale_units='xy',scale=1,color='r',label=\"A\")\n",
    "axes[0].quiver(0,0,B[0],B[1],angles='xy',scale_units='xy',scale=1,color='b',label=\"B\")\n",
    "axes[0].set_xlim(-3,3); axes[0].set_ylim(-3,5)\n",
    "axes[0].set_aspect('equal'); axes[0].legend()\n",
    "axes[0].set_title(\"High similarity (A vs B)\")\n",
    "\n",
    "# Right: low similarity\n",
    "axes[1].quiver(0,0,C[0],C[1],angles='xy',scale_units='xy',scale=1,color='r',label=\"C\")\n",
    "axes[1].quiver(0,0,D[0],D[1],angles='xy',scale_units='xy',scale=1,color='b',label=\"D\")\n",
    "axes[1].set_xlim(-3,3); axes[1].set_ylim(-3,5)\n",
    "axes[1].set_aspect('equal'); axes[1].legend()\n",
    "axes[1].set_title(\"Low similarity (C vs D)\")\n",
    "\n",
    "plt.show()"
   ]
  },
  {
   "cell_type": "code",
   "execution_count": 2,
   "id": "99a5896e",
   "metadata": {},
   "outputs": [
    {
     "name": "stdout",
     "output_type": "stream",
     "text": [
      "Requirement already satisfied: scikit-learn in ./venv/lib/python3.12/site-packages (1.7.2)\n",
      "Requirement already satisfied: numpy>=1.22.0 in ./venv/lib/python3.12/site-packages (from scikit-learn) (2.3.3)\n",
      "Requirement already satisfied: scipy>=1.8.0 in ./venv/lib/python3.12/site-packages (from scikit-learn) (1.16.2)\n",
      "Requirement already satisfied: joblib>=1.2.0 in ./venv/lib/python3.12/site-packages (from scikit-learn) (1.5.2)\n",
      "Requirement already satisfied: threadpoolctl>=3.1.0 in ./venv/lib/python3.12/site-packages (from scikit-learn) (3.6.0)\n"
     ]
    }
   ],
   "source": [
    "!python -m pip install scikit-learn"
   ]
  },
  {
   "cell_type": "code",
   "execution_count": 3,
   "id": "2847004b",
   "metadata": {},
   "outputs": [
    {
     "name": "stdout",
     "output_type": "stream",
     "text": [
      "0.9778024140774094\n"
     ]
    }
   ],
   "source": [
    "# TODO: compute dot product, norms, and cosine similarity manually for the graph on the left\n",
    "dot = np.dot(A,B)  # np.dot(A,B)\n",
    "norms = np.linalg.norm(A) * np.linalg.norm(B)  # np.linalg.norm(A) * np.linalg.norm(B)\n",
    "cos_sim = dot / norms  # dot / norms\n",
    "cos_sim\n",
    "print(cos_sim)\n"
   ]
  },
  {
   "cell_type": "code",
   "execution_count": 4,
   "id": "eab32a63-2d19-4e0c-8ce8-4ed94259c84d",
   "metadata": {},
   "outputs": [
    {
     "data": {
      "text/plain": [
       "np.float64(0.31622776601683794)"
      ]
     },
     "execution_count": 4,
     "metadata": {},
     "output_type": "execute_result"
    }
   ],
   "source": [
    "# TODO: compute dot product, norms, and cosine similarity manually for the graph on the right\n",
    "dot = np.dot(C,D)\n",
    "norms = np.linalg.norm(C) * np.linalg.norm(D)\n",
    "cos_sim = dot / norms\n",
    "cos_sim"
   ]
  },
  {
   "cell_type": "markdown",
   "id": "42f4ca1f",
   "metadata": {},
   "source": [
    "## 2) Represent Documents as Vectors"
   ]
  },
  {
   "cell_type": "code",
   "execution_count": 5,
   "id": "1d0230a4",
   "metadata": {},
   "outputs": [],
   "source": [
    "from sklearn.feature_extraction.text import CountVectorizer\n",
    "texts = [\n",
    "    \"The new ERP rollout improved our monthly reporting speed by 40 percent.\",\n",
    "    \"Customer support response time is slow but the knowledge base is helpful.\",\n",
    "    \"Weekly sales increased after the email campaign and discount codes.\",\n",
    "    \"Finance wants to compare actuals vs budget by region on one page.\",\n",
    "    \"Legal needs a quick search for similar contract clauses.\",\n",
    "    \"Warehouse picking errors dropped once barcodes were introduced.\",\n",
    "    \"Cash flow forecasting is better, although the model drifts each quarter.\",\n",
    "    \"Late supplier deliveries cause stockouts and unhappy customers.\",\n",
    "    \"The Slack bot that summarizes meetings saves everyone time.\",\n",
    "    \"The SEO team wants to compare rankings by region and device.\",\n",
    "    \"Quarterly reports take too long to prepare without automation tools.\",\n",
    "    \"Marketing wants dashboards that track campaign performance in real time.\",\n",
    "    \"Inventory management suffers when suppliers don’t update delivery times.\",\n",
    "    \"The finance team struggles with consolidating data across regions.\",\n",
    "    \"Customer surveys highlight slow response as a recurring complaint.\",\n",
    "    \"Warehouse staff prefer barcode scanning to manual entry for accuracy.\",\n",
    "    \"Legal reviews contracts manually, making approval cycles very slow.\",\n",
    "    \"IT needs better monitoring to catch server outages before users notice.\",\n",
    "    \"The analytics team wants to combine web traffic with sales data.\",\n",
    "    \"Operations managers request weekly summaries of shipment delays.\"\n",
    "]\n"
   ]
  },
  {
   "cell_type": "code",
   "execution_count": 6,
   "id": "6e068b9b",
   "metadata": {},
   "outputs": [
    {
     "data": {
      "text/plain": [
       "array([[1, 0, 0, ..., 0, 0, 0],\n",
       "       [0, 0, 0, ..., 0, 0, 0],\n",
       "       [0, 0, 0, ..., 0, 0, 1],\n",
       "       ...,\n",
       "       [0, 0, 0, ..., 0, 0, 0],\n",
       "       [0, 0, 0, ..., 0, 1, 0],\n",
       "       [0, 0, 0, ..., 0, 0, 1]], shape=(20, 124))"
      ]
     },
     "execution_count": 6,
     "metadata": {},
     "output_type": "execute_result"
    }
   ],
   "source": [
    "vectorizer = CountVectorizer(stop_words='english')\n",
    "X = vectorizer.fit_transform(texts)\n",
    "X.toarray() # TO DO: explain what this is\n"
   ]
  },
  {
   "cell_type": "code",
   "execution_count": 7,
   "id": "73d412c5-762d-4721-adc0-f94611ebf48e",
   "metadata": {},
   "outputs": [
    {
     "name": "stdout",
     "output_type": "stream",
     "text": [
      "['40' 'accuracy' 'actuals' 'analytics' 'approval' 'automation' 'barcode'\n",
      " 'barcodes' 'base' 'better' 'bot' 'budget' 'campaign' 'cash' 'catch'\n",
      " 'cause' 'clauses' 'codes' 'combine' 'compare' 'complaint' 'consolidating'\n",
      " 'contract' 'contracts' 'customer' 'customers' 'cycles' 'dashboards'\n",
      " 'data' 'delays' 'deliveries' 'delivery' 'device' 'discount' 'don'\n",
      " 'drifts' 'dropped' 'email' 'entry' 'erp' 'errors' 'finance' 'flow'\n",
      " 'forecasting' 'helpful' 'highlight' 'improved' 'increased' 'introduced'\n",
      " 'inventory' 'knowledge' 'late' 'legal' 'long' 'making' 'management'\n",
      " 'managers' 'manual' 'manually' 'marketing' 'meetings' 'model'\n",
      " 'monitoring' 'monthly' 'needs' 'new' 'notice' 'operations' 'outages'\n",
      " 'page' 'percent' 'performance' 'picking' 'prefer' 'prepare' 'quarter'\n",
      " 'quarterly' 'quick' 'rankings' 'real' 'recurring' 'region' 'regions'\n",
      " 'reporting' 'reports' 'request' 'response' 'reviews' 'rollout' 'sales'\n",
      " 'saves' 'scanning' 'search' 'seo' 'server' 'shipment' 'similar' 'slack'\n",
      " 'slow' 'speed' 'staff' 'stockouts' 'struggles' 'suffers' 'summaries'\n",
      " 'summarizes' 'supplier' 'suppliers' 'support' 'surveys' 'team' 'time'\n",
      " 'times' 'tools' 'track' 'traffic' 'unhappy' 'update' 'users' 'vs' 'wants'\n",
      " 'warehouse' 'web' 'weekly']\n"
     ]
    },
    {
     "data": {
      "text/plain": [
       "'weekly'"
      ]
     },
     "execution_count": 7,
     "metadata": {},
     "output_type": "execute_result"
    }
   ],
   "source": [
    "feature_names = vectorizer.get_feature_names_out()   # column order\n",
    "len(feature_names),\n",
    "print(feature_names)\n",
    "feature_names[123]\n",
    "# TO DO: get the last feature name\n"
   ]
  },
  {
   "cell_type": "code",
   "execution_count": 8,
   "id": "0b312e84-6e35-48b4-9e6a-f6fc06fd5d5c",
   "metadata": {},
   "outputs": [
    {
     "data": {
      "text/html": [
       "<div>\n",
       "<style scoped>\n",
       "    .dataframe tbody tr th:only-of-type {\n",
       "        vertical-align: middle;\n",
       "    }\n",
       "\n",
       "    .dataframe tbody tr th {\n",
       "        vertical-align: top;\n",
       "    }\n",
       "\n",
       "    .dataframe thead th {\n",
       "        text-align: right;\n",
       "    }\n",
       "</style>\n",
       "<table border=\"1\" class=\"dataframe\">\n",
       "  <thead>\n",
       "    <tr style=\"text-align: right;\">\n",
       "      <th></th>\n",
       "      <th>40</th>\n",
       "      <th>accuracy</th>\n",
       "      <th>actuals</th>\n",
       "      <th>analytics</th>\n",
       "      <th>approval</th>\n",
       "      <th>automation</th>\n",
       "      <th>barcode</th>\n",
       "      <th>barcodes</th>\n",
       "      <th>base</th>\n",
       "      <th>better</th>\n",
       "      <th>...</th>\n",
       "      <th>track</th>\n",
       "      <th>traffic</th>\n",
       "      <th>unhappy</th>\n",
       "      <th>update</th>\n",
       "      <th>users</th>\n",
       "      <th>vs</th>\n",
       "      <th>wants</th>\n",
       "      <th>warehouse</th>\n",
       "      <th>web</th>\n",
       "      <th>weekly</th>\n",
       "    </tr>\n",
       "  </thead>\n",
       "  <tbody>\n",
       "    <tr>\n",
       "      <th>0</th>\n",
       "      <td>1</td>\n",
       "      <td>0</td>\n",
       "      <td>0</td>\n",
       "      <td>0</td>\n",
       "      <td>0</td>\n",
       "      <td>0</td>\n",
       "      <td>0</td>\n",
       "      <td>0</td>\n",
       "      <td>0</td>\n",
       "      <td>0</td>\n",
       "      <td>...</td>\n",
       "      <td>0</td>\n",
       "      <td>0</td>\n",
       "      <td>0</td>\n",
       "      <td>0</td>\n",
       "      <td>0</td>\n",
       "      <td>0</td>\n",
       "      <td>0</td>\n",
       "      <td>0</td>\n",
       "      <td>0</td>\n",
       "      <td>0</td>\n",
       "    </tr>\n",
       "    <tr>\n",
       "      <th>1</th>\n",
       "      <td>0</td>\n",
       "      <td>0</td>\n",
       "      <td>0</td>\n",
       "      <td>0</td>\n",
       "      <td>0</td>\n",
       "      <td>0</td>\n",
       "      <td>0</td>\n",
       "      <td>0</td>\n",
       "      <td>1</td>\n",
       "      <td>0</td>\n",
       "      <td>...</td>\n",
       "      <td>0</td>\n",
       "      <td>0</td>\n",
       "      <td>0</td>\n",
       "      <td>0</td>\n",
       "      <td>0</td>\n",
       "      <td>0</td>\n",
       "      <td>0</td>\n",
       "      <td>0</td>\n",
       "      <td>0</td>\n",
       "      <td>0</td>\n",
       "    </tr>\n",
       "    <tr>\n",
       "      <th>2</th>\n",
       "      <td>0</td>\n",
       "      <td>0</td>\n",
       "      <td>0</td>\n",
       "      <td>0</td>\n",
       "      <td>0</td>\n",
       "      <td>0</td>\n",
       "      <td>0</td>\n",
       "      <td>0</td>\n",
       "      <td>0</td>\n",
       "      <td>0</td>\n",
       "      <td>...</td>\n",
       "      <td>0</td>\n",
       "      <td>0</td>\n",
       "      <td>0</td>\n",
       "      <td>0</td>\n",
       "      <td>0</td>\n",
       "      <td>0</td>\n",
       "      <td>0</td>\n",
       "      <td>0</td>\n",
       "      <td>0</td>\n",
       "      <td>1</td>\n",
       "    </tr>\n",
       "  </tbody>\n",
       "</table>\n",
       "<p>3 rows × 124 columns</p>\n",
       "</div>"
      ],
      "text/plain": [
       "   40  accuracy  actuals  analytics  approval  automation  barcode  barcodes  \\\n",
       "0   1         0        0          0         0           0        0         0   \n",
       "1   0         0        0          0         0           0        0         0   \n",
       "2   0         0        0          0         0           0        0         0   \n",
       "\n",
       "   base  better  ...  track  traffic  unhappy  update  users  vs  wants  \\\n",
       "0     0       0  ...      0        0        0       0      0   0      0   \n",
       "1     1       0  ...      0        0        0       0      0   0      0   \n",
       "2     0       0  ...      0        0        0       0      0   0      0   \n",
       "\n",
       "   warehouse  web  weekly  \n",
       "0          0    0       0  \n",
       "1          0    0       0  \n",
       "2          0    0       1  \n",
       "\n",
       "[3 rows x 124 columns]"
      ]
     },
     "execution_count": 8,
     "metadata": {},
     "output_type": "execute_result"
    }
   ],
   "source": [
    "import pandas as pd\n",
    "X_df = pd.DataFrame(X.toarray(), columns=feature_names) # TO DO: make this into a pandas dataframe, where columns are the feature names\n",
    "X_df.head(3)\n"
   ]
  },
  {
   "cell_type": "markdown",
   "id": "a37da2ef",
   "metadata": {},
   "source": [
    "## 3) Cosine Similarity Between Documents"
   ]
  },
  {
   "cell_type": "code",
   "execution_count": 9,
   "id": "6c3fa347",
   "metadata": {},
   "outputs": [
    {
     "data": {
      "text/plain": [
       "array([[1.  , 0.  , 0.  , 0.  , 0.  , 0.  , 0.  , 0.  , 0.  , 0.  , 0.  ,\n",
       "        0.  , 0.  , 0.  , 0.  , 0.  , 0.  , 0.  , 0.  , 0.  ],\n",
       "       [0.  , 1.  , 0.  , 0.  , 0.  , 0.  , 0.  , 0.  , 0.14, 0.  , 0.  ,\n",
       "        0.12, 0.  , 0.  , 0.4 , 0.  , 0.12, 0.  , 0.  , 0.  ],\n",
       "       [0.  , 0.  , 1.  , 0.  , 0.  , 0.  , 0.  , 0.  , 0.  , 0.  , 0.  ,\n",
       "        0.13, 0.  , 0.  , 0.  , 0.  , 0.  , 0.  , 0.13, 0.14],\n",
       "       [0.  , 0.  , 0.  , 1.  , 0.  , 0.  , 0.  , 0.  , 0.  , 0.4 , 0.  ,\n",
       "        0.12, 0.  , 0.14, 0.  , 0.  , 0.  , 0.  , 0.12, 0.  ],\n",
       "       [0.  , 0.  , 0.  , 0.  , 1.  , 0.  , 0.  , 0.  , 0.  , 0.  , 0.  ,\n",
       "        0.  , 0.  , 0.  , 0.  , 0.  , 0.13, 0.13, 0.  , 0.  ],\n",
       "       [0.  , 0.  , 0.  , 0.  , 0.  , 1.  , 0.  , 0.  , 0.  , 0.  , 0.  ,\n",
       "        0.  , 0.  , 0.  , 0.  , 0.14, 0.  , 0.  , 0.  , 0.  ],\n",
       "       [0.  , 0.  , 0.  , 0.  , 0.  , 0.  , 1.  , 0.  , 0.  , 0.  , 0.  ,\n",
       "        0.  , 0.  , 0.  , 0.  , 0.  , 0.  , 0.13, 0.  , 0.  ],\n",
       "       [0.  , 0.  , 0.  , 0.  , 0.  , 0.  , 0.  , 1.  , 0.  , 0.  , 0.  ,\n",
       "        0.  , 0.  , 0.  , 0.  , 0.  , 0.  , 0.  , 0.  , 0.  ],\n",
       "       [0.  , 0.14, 0.  , 0.  , 0.  , 0.  , 0.  , 0.  , 1.  , 0.  , 0.  ,\n",
       "        0.14, 0.  , 0.  , 0.  , 0.  , 0.  , 0.  , 0.  , 0.  ],\n",
       "       [0.  , 0.  , 0.  , 0.4 , 0.  , 0.  , 0.  , 0.  , 0.  , 1.  , 0.  ,\n",
       "        0.13, 0.  , 0.15, 0.  , 0.  , 0.  , 0.  , 0.27, 0.  ],\n",
       "       [0.  , 0.  , 0.  , 0.  , 0.  , 0.  , 0.  , 0.  , 0.  , 0.  , 1.  ,\n",
       "        0.  , 0.  , 0.  , 0.  , 0.  , 0.  , 0.  , 0.  , 0.  ],\n",
       "       [0.  , 0.12, 0.13, 0.12, 0.  , 0.  , 0.  , 0.  , 0.14, 0.13, 0.  ,\n",
       "        1.  , 0.  , 0.  , 0.  , 0.  , 0.  , 0.  , 0.12, 0.  ],\n",
       "       [0.  , 0.  , 0.  , 0.  , 0.  , 0.  , 0.  , 0.  , 0.  , 0.  , 0.  ,\n",
       "        0.  , 1.  , 0.  , 0.  , 0.  , 0.  , 0.  , 0.  , 0.  ],\n",
       "       [0.  , 0.  , 0.  , 0.14, 0.  , 0.  , 0.  , 0.  , 0.  , 0.15, 0.  ,\n",
       "        0.  , 0.  , 1.  , 0.  , 0.  , 0.  , 0.  , 0.29, 0.  ],\n",
       "       [0.  , 0.4 , 0.  , 0.  , 0.  , 0.  , 0.  , 0.  , 0.  , 0.  , 0.  ,\n",
       "        0.  , 0.  , 0.  , 1.  , 0.  , 0.13, 0.  , 0.  , 0.  ],\n",
       "       [0.  , 0.  , 0.  , 0.  , 0.  , 0.14, 0.  , 0.  , 0.  , 0.  , 0.  ,\n",
       "        0.  , 0.  , 0.  , 0.  , 1.  , 0.  , 0.  , 0.  , 0.  ],\n",
       "       [0.  , 0.12, 0.  , 0.  , 0.13, 0.  , 0.  , 0.  , 0.  , 0.  , 0.  ,\n",
       "        0.  , 0.  , 0.  , 0.13, 0.  , 1.  , 0.  , 0.  , 0.  ],\n",
       "       [0.  , 0.  , 0.  , 0.  , 0.13, 0.  , 0.13, 0.  , 0.  , 0.  , 0.  ,\n",
       "        0.  , 0.  , 0.  , 0.  , 0.  , 0.  , 1.  , 0.  , 0.  ],\n",
       "       [0.  , 0.  , 0.13, 0.12, 0.  , 0.  , 0.  , 0.  , 0.  , 0.27, 0.  ,\n",
       "        0.12, 0.  , 0.29, 0.  , 0.  , 0.  , 0.  , 1.  , 0.  ],\n",
       "       [0.  , 0.  , 0.14, 0.  , 0.  , 0.  , 0.  , 0.  , 0.  , 0.  , 0.  ,\n",
       "        0.  , 0.  , 0.  , 0.  , 0.  , 0.  , 0.  , 0.  , 1.  ]])"
      ]
     },
     "execution_count": 9,
     "metadata": {},
     "output_type": "execute_result"
    }
   ],
   "source": [
    "from sklearn.metrics.pairwise import cosine_similarity\n",
    "\n",
    "sim_matrix = cosine_similarity(X)\n",
    "sim_matrix.round(2)\n",
    "\n",
    "\n"
   ]
  },
  {
   "cell_type": "code",
   "execution_count": 10,
   "id": "bd4f4a07",
   "metadata": {},
   "outputs": [
    {
     "name": "stdout",
     "output_type": "stream",
     "text": [
      "[('Customer surveys highlight slow response as a recurring complaint.', np.float64(0.4008918628686365)), ('The Slack bot that summarizes meetings saves everyone time.', np.float64(0.14433756729740646)), ('Legal reviews contracts manually, making approval cycles very slow.', np.float64(0.12499999999999997))]\n",
      "Customer support response time is slow but the knowledge base is helpful.\n"
     ]
    }
   ],
   "source": [
    "def most_similar(doc_id, X, labels, top_n=3):\n",
    "    sims = cosine_similarity(X[doc_id], X).flatten() #cosine similarity between the document and the whole matrix.\n",
    "    ranked = sims.argsort()[::-1][1:top_n+1]\n",
    "    return [(labels[i], sims[i]) for i in ranked]\n",
    "\n",
    "# TODO: try this function with the second sentence\n",
    "\n",
    "print(most_similar(1, X, texts))\n",
    "print(texts[1])\n",
    "\n"
   ]
  },
  {
   "cell_type": "code",
   "execution_count": 11,
   "id": "534f4845",
   "metadata": {},
   "outputs": [
    {
     "data": {
      "text/plain": [
       "array([0, 0, 0, 0, 0, 0, 0, 0, 1, 0, 0, 0, 0, 0, 0, 0, 0, 0, 0, 0, 0, 0,\n",
       "       0, 0, 1, 0, 0, 0, 0, 0, 0, 0, 0, 0, 0, 0, 0, 0, 0, 0, 0, 0, 0, 0,\n",
       "       1, 0, 0, 0, 0, 0, 1, 0, 0, 0, 0, 0, 0, 0, 0, 0, 0, 0, 0, 0, 0, 0,\n",
       "       0, 0, 0, 0, 0, 0, 0, 0, 0, 0, 0, 0, 0, 0, 0, 0, 0, 0, 0, 0, 1, 0,\n",
       "       0, 0, 0, 0, 0, 0, 0, 0, 0, 0, 1, 0, 0, 0, 0, 0, 0, 0, 0, 0, 1, 0,\n",
       "       0, 1, 0, 0, 0, 0, 0, 0, 0, 0, 0, 0, 0, 0])"
      ]
     },
     "execution_count": 11,
     "metadata": {},
     "output_type": "execute_result"
    }
   ],
   "source": [
    "X.toarray()[1]"
   ]
  },
  {
   "cell_type": "markdown",
   "id": "d380e74e",
   "metadata": {},
   "source": [
    "## 4) Search with a Query"
   ]
  },
  {
   "cell_type": "code",
   "execution_count": 12,
   "id": "dfc4da57",
   "metadata": {},
   "outputs": [
    {
     "data": {
      "text/plain": [
       "[('Finance wants to compare actuals vs budget by region on one page.',\n",
       "  np.float64(0.4999999999999999)),\n",
       " ('The finance team struggles with consolidating data across regions.',\n",
       "  np.float64(0.2886751345948129)),\n",
       " ('Operations managers request weekly summaries of shipment delays.',\n",
       "  np.float64(0.0))]"
      ]
     },
     "execution_count": 12,
     "metadata": {},
     "output_type": "execute_result"
    }
   ],
   "source": [
    "# TO DO: write a query (i.e. a sentence) that includes words like \"Finance\", \"budget\", \"report\"\n",
    "query = [\"It is end of month for finance and we are over budget please include why in the report.\"]\n",
    "\n",
    "q_vec = vectorizer.transform(query)\n",
    "\n",
    "sims = cosine_similarity(q_vec, X).flatten()\n",
    "ranked = sims.argsort()[::-1][:3]\n",
    "[(texts[i], sims[i]) for i in ranked]\n"
   ]
  },
  {
   "cell_type": "markdown",
   "id": "3a444b20",
   "metadata": {},
   "source": [
    "Later we'll see advanced methods where words are projected into continuous vector spaces.  \n",
    "This allows operations like:  \n",
    "\n",
    "vector(\"king\") - vector(\"man\") + vector(\"woman\") ≈ vector(\"queen\")  \n",
    "aunt + male ≈ uncle  \n",
    "\n",
    "Cosine similarity is again the metric that measures closeness in that space.\n"
   ]
  }
 ],
 "metadata": {
  "kernelspec": {
   "display_name": "venv",
   "language": "python",
   "name": "python3"
  },
  "language_info": {
   "codemirror_mode": {
    "name": "ipython",
    "version": 3
   },
   "file_extension": ".py",
   "mimetype": "text/x-python",
   "name": "python",
   "nbconvert_exporter": "python",
   "pygments_lexer": "ipython3",
   "version": "3.12.5"
  }
 },
 "nbformat": 4,
 "nbformat_minor": 5
}
